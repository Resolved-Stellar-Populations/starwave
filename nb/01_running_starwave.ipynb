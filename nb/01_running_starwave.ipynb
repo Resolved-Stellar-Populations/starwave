{
 "cells": [
  {
   "cell_type": "markdown",
   "id": "1e8e7e5f",
   "metadata": {},
   "source": [
    "## Setup path to starwave code and data location"
   ]
  },
  {
   "cell_type": "code",
   "execution_count": null,
   "id": "ec445e36",
   "metadata": {},
   "outputs": [],
   "source": [
    "codepath = '/Users/gennaro/starwave/'\n",
    "datapath = '/Users/gennaro/Desktop/LMC_starwave_data/'"
   ]
  },
  {
   "cell_type": "markdown",
   "id": "b651ca19",
   "metadata": {},
   "source": [
    "## Imports"
   ]
  },
  {
   "cell_type": "code",
   "execution_count": null,
   "id": "6c509ecf",
   "metadata": {},
   "outputs": [],
   "source": [
    "import sys\n",
    "sys.path.append(codepath)\n",
    "import starwave\n",
    "\n",
    "import numpy as np\n",
    "import matplotlib.pyplot as plt\n",
    "import bz2\n",
    "import pandas as pd\n",
    "from matplotlib.colors import LogNorm\n",
    "import torch\n",
    "import corner\n",
    "from sbi import utils\n",
    "import sbi\n",
    "from sbi.analysis import pairplot\n",
    "\n",
    "%matplotlib notebook"
   ]
  },
  {
   "cell_type": "markdown",
   "id": "aa57a9dd",
   "metadata": {},
   "source": [
    "### Load Isochrones"
   ]
  },
  {
   "cell_type": "code",
   "execution_count": null,
   "id": "fe325aa9",
   "metadata": {},
   "outputs": [],
   "source": [
    "with bz2.BZ2File(datapath+'/isolib_LMC_df_corr.pbz2') as f:\n",
    "    isodf = pd.read_pickle(f)"
   ]
  },
  {
   "cell_type": "code",
   "execution_count": null,
   "id": "181e0486",
   "metadata": {},
   "outputs": [],
   "source": [
    "isodf.head()"
   ]
  },
  {
   "cell_type": "markdown",
   "id": "18ebb2f0",
   "metadata": {},
   "source": [
    "### Load Artifical Stars"
   ]
  },
  {
   "cell_type": "code",
   "execution_count": null,
   "id": "7b12790b",
   "metadata": {},
   "outputs": [],
   "source": [
    "with bz2.BZ2File(datapath+'/AScat.pbz2') as f:\n",
    "    asdf = pd.read_pickle(f)\n",
    "asdf = pd.DataFrame(asdf)\n",
    "print('Number of ASTs:',len(asdf))"
   ]
  },
  {
   "cell_type": "markdown",
   "id": "3f938b40",
   "metadata": {},
   "source": [
    "#### Rename to correct format, remove undetected stars"
   ]
  },
  {
   "cell_type": "code",
   "execution_count": null,
   "id": "df619afd",
   "metadata": {},
   "outputs": [],
   "source": [
    "detected = np.array(asdf['AS_det'])\n",
    "asdf['F110W_in'] = asdf['AS_mag1_in']\n",
    "asdf['F110W_out'] = asdf['AS_mag1_out']\n",
    "\n",
    "asdf['F160W_in'] = asdf['AS_mag2_in']\n",
    "asdf['F160W_out'] = asdf['AS_mag2_out']\n",
    "\n",
    "asdf['F110W_out'].loc[~detected] = np.nan\n",
    "asdf['F160W_out'].loc[~detected] = np.nan"
   ]
  },
  {
   "cell_type": "markdown",
   "id": "0d9a607c",
   "metadata": {},
   "source": [
    "#### Plot the input and output CMDs for the ASTs"
   ]
  },
  {
   "cell_type": "code",
   "execution_count": null,
   "id": "8bb06b66",
   "metadata": {},
   "outputs": [],
   "source": [
    "f,ax = plt.subplots(1,2,sharex=True,sharey=True)\n",
    "\n",
    "ax[0].hist2d(asdf['F110W_in'] - asdf['F160W_in'], asdf['F160W_in'],\n",
    "          bins = 250, norm = LogNorm(),\n",
    "            range = ((-1.5, 0), (18, 32)));\n",
    "\n",
    "ax[0].set_xlabel('$F110W - F160W$')\n",
    "ax[0].set_ylabel('$F160W$')\n",
    "ax[0].set_title('Input magnitudes')\n",
    "\n",
    "ax[1].hist2d(asdf['F110W_out'] - asdf['F160W_out'], asdf['F160W_out'],\n",
    "          bins = 250, norm = LogNorm(),\n",
    "          range = ((-1.5, 0), (18, 32)));\n",
    "\n",
    "ax[1].set_xlim(-1.5,0.)\n",
    "ax[1].set_ylim(32,18)\n",
    "ax[1].set_xlabel('$F110W - F160W$')\n",
    "ax[1].set_title('Output magnitudes')\n",
    "f.tight_layout()"
   ]
  },
  {
   "cell_type": "markdown",
   "id": "54249cf5",
   "metadata": {},
   "source": [
    "#### Plot the run of completness as a function of magnitude in each bamd"
   ]
  },
  {
   "cell_type": "code",
   "execution_count": null,
   "id": "e6d212e8",
   "metadata": {},
   "outputs": [],
   "source": [
    "f,ax = plt.subplots(2,1)\n",
    "\n",
    "n1,b,p = ax[0].hist(asdf['F110W_in'],bins=50)\n",
    "n2,b,p = ax[0].hist(asdf['F110W_out'],bins=b)\n",
    "\n",
    "ax2 = ax[0].twinx()\n",
    "ax2.plot(0.5*(b[:-1]+b[1:]),n2/n1,color='red')\n",
    "ax2.set_ylim(0,1.1)\n",
    "ax2.set_ylabel('Completeness',color='red')\n",
    "ax2.tick_params(axis=\"y\", labelcolor='red')\n",
    "ax[0].set_title('F110W')\n",
    "\n",
    "n1,b,p = ax[1].hist(asdf['F160W_in'],bins=50)\n",
    "n2,b,p = ax[1].hist(asdf['F160W_out'],bins=b)\n",
    "\n",
    "ax[1].set_title('F110W')\n",
    "ax3 = ax[1].twinx()\n",
    "ax3.plot(0.5*(b[:-1]+b[1:]),n2/n1,color='red')\n",
    "ax3.set_ylim(0,1.1)\n",
    "ax3.set_ylabel('Completeness',color='red')\n",
    "ax3.tick_params(axis=\"y\", labelcolor='red')\n",
    "\n",
    "\n",
    "f.tight_layout()"
   ]
  },
  {
   "cell_type": "markdown",
   "id": "e33276fe",
   "metadata": {},
   "source": [
    "### Load SFH Grid"
   ]
  },
  {
   "cell_type": "code",
   "execution_count": null,
   "id": "5ec8601d",
   "metadata": {},
   "outputs": [],
   "source": [
    "with bz2.BZ2File(datapath+'/SFH_2d_frommarginals_metalbound.pbz2') as f:\n",
    "    sfh_grid = pd.read_pickle(f)"
   ]
  },
  {
   "cell_type": "markdown",
   "id": "8855db49",
   "metadata": {},
   "source": [
    "#### Plot the 2D SFH"
   ]
  },
  {
   "cell_type": "code",
   "execution_count": null,
   "id": "b8b69eb0",
   "metadata": {},
   "outputs": [],
   "source": [
    "minmet,maxmet = sfh_grid['mets'].min(),sfh_grid['mets'].max()\n",
    "minage,maxage = sfh_grid['ages'].min(),sfh_grid['ages'].max()\n",
    "\n",
    "\n",
    "f,ax = plt.subplots(1,1)\n",
    "\n",
    "ax.imshow(sfh_grid['probabilities'],origin='lower', interpolation='none', extent=[minmet,maxmet,minage,maxage])\n",
    "ax.set_aspect(0.1)\n",
    "ax.set_xlabel('[Fe/H]')\n",
    "ax.set_ylabel('Age (Gyr)')\n",
    "ax.set_title('Star Formation History')\n",
    "f.tight_layout()"
   ]
  },
  {
   "cell_type": "markdown",
   "id": "4a6f0d57",
   "metadata": {},
   "source": [
    "### Load HST LMC Data"
   ]
  },
  {
   "cell_type": "code",
   "execution_count": null,
   "id": "e6cafc94",
   "metadata": {},
   "outputs": [],
   "source": [
    "with bz2.BZ2File(datapath+'/catalog.pbz2') as f:\n",
    "    lmc = pd.read_pickle(f)\n",
    "lmc = pd.DataFrame(lmc)\n",
    "\n",
    "lmc = lmc[lmc['dat_det']]"
   ]
  },
  {
   "cell_type": "code",
   "execution_count": null,
   "id": "4904b7a3",
   "metadata": {},
   "outputs": [],
   "source": [
    "lmc['F110W'] = lmc['dat_mag1']\n",
    "lmc['F160W'] = lmc['dat_mag2']"
   ]
  },
  {
   "cell_type": "code",
   "execution_count": null,
   "id": "3c3ed382",
   "metadata": {},
   "outputs": [],
   "source": [
    "f,ax = plt.subplots(1,1)\n",
    "ax.scatter(lmc['F110W'] - lmc['F160W'], lmc['F160W'], s = 1, alpha = 0.5, color = 'k')\n",
    "\n",
    "ax.invert_yaxis()\n",
    "\n",
    "ax.set_xlabel('$F110W - F160W$')\n",
    "ax.set_ylabel('$F160W$')\n",
    "ax.set_title('Data CMD')\n",
    "\n",
    "f.tight_layout()"
   ]
  },
  {
   "cell_type": "markdown",
   "id": "10047c25",
   "metadata": {},
   "source": [
    "## A few sanity checks"
   ]
  },
  {
   "cell_type": "code",
   "execution_count": null,
   "id": "8eedcb02",
   "metadata": {},
   "outputs": [],
   "source": [
    "print('Min and max ages available in the isochrones: {} , {}'.format(np.min(isodf.index.get_level_values('age')),np.max(isodf.index.get_level_values('age'))))\n",
    "print('***')\n",
    "print('Min and max ages in the provided 2d SFH: {} {}'.format(minage,maxage))"
   ]
  },
  {
   "cell_type": "code",
   "execution_count": null,
   "id": "c8117bcb",
   "metadata": {},
   "outputs": [],
   "source": [
    "print('Min and max [Fe/H] available in the isochrones: {} , {}'.format(np.min(isodf.index.get_level_values('[Fe/H]')),np.max(isodf.index.get_level_values('[Fe/H]'))))\n",
    "print('***')\n",
    "print('Min and max [Fe/H] in the provided 2d SFH: {} {}'.format(minmet,maxmet))"
   ]
  },
  {
   "cell_type": "markdown",
   "id": "b07251ed",
   "metadata": {},
   "source": [
    "## Setup starwave"
   ]
  },
  {
   "cell_type": "markdown",
   "id": "fc0bba70",
   "metadata": {},
   "source": [
    "### The names of the photometric bands to use"
   ]
  },
  {
   "cell_type": "code",
   "execution_count": null,
   "id": "f147ae68",
   "metadata": {},
   "outputs": [],
   "source": [
    "shortbands = ['F160W', 'F110W']\n",
    "print('Photometric passbands to use:')\n",
    "print(shortbands)"
   ]
  },
  {
   "cell_type": "markdown",
   "id": "d5dfbfd4",
   "metadata": {},
   "source": [
    "### Instantiate a starwave object"
   ]
  },
  {
   "cell_type": "code",
   "execution_count": null,
   "id": "343729a8",
   "metadata": {},
   "outputs": [],
   "source": [
    "sw = starwave.StarWave(isodf = isodf, asdf = asdf, imf_type = 'spl',\n",
    "                      bands = shortbands, band_lambdas = [15369., 11534.],\n",
    "                       sfh_type = 'grid', sfh_grid = sfh_grid)"
   ]
  },
  {
   "cell_type": "markdown",
   "id": "4e2676be",
   "metadata": {},
   "source": [
    "### Setup some paramaters as fixed or to be fitted for"
   ]
  },
  {
   "cell_type": "code",
   "execution_count": null,
   "id": "7c5cdf4d",
   "metadata": {},
   "outputs": [],
   "source": [
    "logint = 4.8\n",
    "slope = -2.5\n",
    "\n",
    "sw.params['dm'].set(value = 18.52, fixed = True, bounds = [18, 19])\n",
    "sw.params['log_int'].set(value = logint, bounds = (logint - .5, logint + .25))\n",
    "sw.params['bf'].set(value = 0.4, fixed = True)\n",
    "sw.params['slope'].set(value = slope, bounds = (-4, -1))\n",
    "sw.params['av'].set(value = 3.1 * 0.075, bounds = (0, 1), fixed = True)\n"
   ]
  },
  {
   "cell_type": "code",
   "execution_count": null,
   "id": "ca106bee",
   "metadata": {},
   "outputs": [],
   "source": [
    "sw.params"
   ]
  },
  {
   "cell_type": "markdown",
   "id": "7640bdb8",
   "metadata": {},
   "source": [
    "### Generate a fake CMD that looks somewhat like the LMC one and retrieve its parameters"
   ]
  },
  {
   "cell_type": "code",
   "execution_count": null,
   "id": "c28ebddd",
   "metadata": {},
   "outputs": [],
   "source": [
    "params = torch.tensor([logint, -2.3])\n",
    "eg_cmd = sw.sample_cmd(params, model = 'spl')[1]"
   ]
  },
  {
   "cell_type": "markdown",
   "id": "1e8a46b8",
   "metadata": {},
   "source": [
    "### Plot LMC and sampled CMD"
   ]
  },
  {
   "cell_type": "code",
   "execution_count": null,
   "id": "29d6250e",
   "metadata": {},
   "outputs": [],
   "source": [
    "lmc_mags = np.vstack((lmc[shortbands[0]], lmc[shortbands[1]])).T\n",
    "lmc_cmd = sw.make_cmd(lmc_mags)\n",
    "\n",
    "f,ax =plt.subplots(1,1)\n",
    "starwave.plot_cmd(lmc_cmd, bands = shortbands)\n",
    "starwave.plot_cmd(eg_cmd, bands = shortbands)\n",
    "\n",
    "plt.gca().invert_yaxis()"
   ]
  },
  {
   "cell_type": "markdown",
   "id": "e5da9adf",
   "metadata": {},
   "source": [
    "### Run Starwave to fit the fake LMC CMD"
   ]
  },
  {
   "cell_type": "markdown",
   "id": "7378f234",
   "metadata": {},
   "source": [
    "#### Train the posterior"
   ]
  },
  {
   "cell_type": "code",
   "execution_count": null,
   "id": "72f06efb",
   "metadata": {},
   "outputs": [],
   "source": [
    "posteriors = sw.fit_cmd(eg_cmd, cores = 1, n_sims = 100, n_rounds = 3, gamma = None, \n",
    "                       gamma_kw = dict(q = 0.68, NN = 5, fac = 1))"
   ]
  },
  {
   "cell_type": "markdown",
   "id": "b80b0086",
   "metadata": {},
   "source": [
    "#### Sample from the trained posterior and plot the results"
   ]
  },
  {
   "cell_type": "code",
   "execution_count": null,
   "id": "3890243a",
   "metadata": {},
   "outputs": [],
   "source": [
    "posterior = sw.posteriors[-1]"
   ]
  },
  {
   "cell_type": "code",
   "execution_count": null,
   "id": "d164778f",
   "metadata": {},
   "outputs": [],
   "source": [
    "print(posterior)"
   ]
  },
  {
   "cell_type": "code",
   "execution_count": null,
   "id": "7a4eb59f",
   "metadata": {},
   "outputs": [],
   "source": [
    "posterior_samples = posterior.sample((1000000,), x = sw.obs)"
   ]
  },
  {
   "cell_type": "code",
   "execution_count": null,
   "id": "ddd733e0",
   "metadata": {},
   "outputs": [],
   "source": [
    "f = corner.corner(np.array(posterior_samples), show_titles = True, \n",
    "                  labels = list(sw.param_mapper.keys()), title_kwargs = dict(fontsize = 14),\n",
    "                  truths = [logint, slope])"
   ]
  },
  {
   "cell_type": "code",
   "execution_count": null,
   "id": "5891a82d",
   "metadata": {},
   "outputs": [],
   "source": []
  },
  {
   "cell_type": "code",
   "execution_count": null,
   "id": "b7714a08",
   "metadata": {},
   "outputs": [],
   "source": []
  }
 ],
 "metadata": {
  "kernelspec": {
   "display_name": "Python [conda env:starwave] *",
   "language": "python",
   "name": "conda-env-starwave-py"
  },
  "language_info": {
   "codemirror_mode": {
    "name": "ipython",
    "version": 3
   },
   "file_extension": ".py",
   "mimetype": "text/x-python",
   "name": "python",
   "nbconvert_exporter": "python",
   "pygments_lexer": "ipython3",
   "version": "3.11.4"
  },
  "toc": {
   "base_numbering": 1,
   "nav_menu": {},
   "number_sections": true,
   "sideBar": true,
   "skip_h1_title": true,
   "title_cell": "Table of Contents",
   "title_sidebar": "Contents",
   "toc_cell": false,
   "toc_position": {
    "height": "calc(100% - 180px)",
    "left": "10px",
    "top": "150px",
    "width": "389.8px"
   },
   "toc_section_display": true,
   "toc_window_display": true
  }
 },
 "nbformat": 4,
 "nbformat_minor": 5
}
